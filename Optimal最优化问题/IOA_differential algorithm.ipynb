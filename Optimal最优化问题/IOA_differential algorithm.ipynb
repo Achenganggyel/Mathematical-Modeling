{
 "cells": [
  {
   "cell_type": "markdown",
   "id": "d3fb2e04-da01-477f-a563-deb3775c2bf2",
   "metadata": {},
   "source": [
    "# 差分进化算法\n",
    "没有跳出局部最优的操作\n",
    "!!! 求最小值可将适应度函数乘以-1\n",
    "\n",
    "参考：[matlab实现](https://www.jianshu.com/p/6c2d24ac57b2)"
   ]
  },
  {
   "cell_type": "markdown",
   "id": "67669940-e6a3-403a-a1d6-3dfe4e8b5454",
   "metadata": {},
   "source": [
    "----\n",
    "ex.：max = sin(x^2) + cos(x^5)，x在[1,2]。 lingo计算得1.441235，最值为1.8"
   ]
  },
  {
   "cell_type": "code",
   "execution_count": 11,
   "id": "2e1f3fdd-6db9-430d-96af-0c29addbb246",
   "metadata": {},
   "outputs": [],
   "source": [
    "import numpy as np\n",
    "import pandas as pd\n",
    "import random\n",
    "import math\n",
    "import matplotlib.pyplot as plt"
   ]
  },
  {
   "cell_type": "code",
   "execution_count": 9,
   "id": "9fb3a0ab-ff3e-4ba0-af00-688dd96676e2",
   "metadata": {},
   "outputs": [],
   "source": [
    "def CalFitness(x=[]): #fitness function calculation\n",
    "    #!!!!!!!!!!!!!!!!!!!!!!!!!!!!!!!!!!!!!!!!!!!!!!\n",
    "    return math.sin(pow(x[0],2))+math.cos(pow(x[0],5))"
   ]
  },
  {
   "cell_type": "code",
   "execution_count": 28,
   "id": "893acb8e-a815-422c-9e73-23c916487948",
   "metadata": {},
   "outputs": [],
   "source": [
    "'''\n",
    "the base of differential evolution\n",
    "\n",
    "@args:\n",
    "cross_rate: the rate of genetic crossover \n",
    "F:the shrinkage factor. The large the 'F' , the slower the convergence speed. ususally in [0,2]\n",
    "gen: generation. The number of iterations\n",
    "init_N: initial population, will not change. ususally in [30,50]\n",
    "num_x: the number of arguments(decision variables)\n",
    "bounds: ranges of independent variables,[[x1_lower bound,x1_upper bound],[x2_lower bound,x2_upper bound], ...]\n",
    "\n",
    "@return:\n",
    "colony: final result. Convergence if all values are the same\n",
    "best_scores:\n",
    "'''\n",
    "\n",
    "def DE_base(cross_rate = 0,F = 0.5, gen = 10, init_n = 30, num_x = 1, bounds =[[]]): \n",
    "    best_scores = []\n",
    "    \n",
    "    #initialize GENES of the COLONY\n",
    "    colony = []\n",
    "    for i in range(init_n):\n",
    "        colony.append([random.uniform(bounds[x][0],bounds[x][1]) for x in range(num_x)])  #uniform-float, randint(lower_bounds,upper_bounds)-int\n",
    "    #!!!!!!!!!!!!!!!!!!!!!!!!!!!!!\n",
    "    colony = np.array(colony)\n",
    "\n",
    "    #start iteration\n",
    "    for i in range(gen):\n",
    "        b_score = CalFitness(colony[0])\n",
    "        \n",
    "        # iteration\n",
    "        for j in range(init_n):\n",
    "            # variation\n",
    "            parents = random.sample(range(init_n),3) #pick 3 randomly from the current population\n",
    "            new = colony[parents[0]]+F*(colony[parents[1]]-colony[parents[2]])\n",
    "            \n",
    "            # cross\n",
    "            d_rand = random.randint(0,num_x) #ensure that at least one gene will change\n",
    "            for k in range(num_x):\n",
    "                if random.random()>=cross_rate and k != d_rand:\n",
    "                    new[k] = colony[j][k] #restore the orginal gene\n",
    "                    \n",
    "            # select: greedy algorithm retains the optimal individuals\n",
    "            if CalFitness(new) > CalFitness(colony[j]):\n",
    "                colony[j] = new # update individual\n",
    "            \n",
    "            tmp_score = CalFitness(colony[j])\n",
    "            \n",
    "            # update [best_scores]\n",
    "            if tmp_score > b_score:\n",
    "                b_score = tmp_score \n",
    "            \n",
    "            \n",
    "        best_scores.append(b_score)\n",
    "            \n",
    "    return colony,best_scores"
   ]
  },
  {
   "cell_type": "code",
   "execution_count": 37,
   "id": "61c74130-4214-4b55-9982-b46e9a7889ff",
   "metadata": {},
   "outputs": [],
   "source": [
    "'''\n",
    "drawing function\n",
    "'''\n",
    "def drawProcess(best_scores = []): #绘制得分（适应度函数）变化曲线\n",
    "    #绘图时显示中文\n",
    "    plt.rcParams['font.sans-serif']=['SimHei']\n",
    "    plt.rcParams['axes.unicode_minus'] = False\n",
    "    #设置图像大小\n",
    "    plt.rcParams['figure.figsize'] = (13.0, 10.0)\n",
    "    plt.subplot(111)\n",
    "    \n",
    "    plt.plot(best_scores, color = '#2b73af', linewidth = 3)\n",
    "    \n",
    "    plt.xlabel('迭代次数',fontsize = 20,verticalalignment = 'baseline',labelpad = 10)\n",
    "    plt.ylabel('适应度函数值',fontsize = 20,verticalalignment = 'bottom',labelpad = 10)\n",
    "    plt.tick_params(labelsize=20,pad =0.3)  # 刻度轴\n",
    "    plt.savefig('./optimal/scores.png')"
   ]
  },
  {
   "cell_type": "code",
   "execution_count": 38,
   "id": "bb293ead-14df-4252-aa7c-6c1e8d5d87a2",
   "metadata": {},
   "outputs": [
    {
     "name": "stdout",
     "output_type": "stream",
     "text": [
      "最终结果： [[1.4412354 ]\n",
      " [1.44123597]\n",
      " [1.44123307]\n",
      " [1.44123842]\n",
      " [1.441235  ]\n",
      " [1.4412374 ]\n",
      " [1.44123607]\n",
      " [1.4412347 ]\n",
      " [1.44123685]\n",
      " [1.441236  ]\n",
      " [1.44123421]\n",
      " [1.44123541]\n",
      " [1.44123335]\n",
      " [1.44123605]\n",
      " [1.44123514]\n",
      " [1.44123395]\n",
      " [1.44123649]\n",
      " [1.44123419]\n",
      " [1.44123721]\n",
      " [1.44123536]\n",
      " [1.44123551]\n",
      " [1.441236  ]\n",
      " [1.44123168]\n",
      " [1.44123462]\n",
      " [1.44123406]\n",
      " [1.44123593]\n",
      " [1.44123407]\n",
      " [1.44123639]\n",
      " [1.44123304]\n",
      " [1.44123493]]\n",
      "迭代中适应度函数： [1.836230898873331, 1.836230898873331, 1.836230898873331, 1.867945585788046, 1.867945585788046, 1.867945585788046, 1.8713691214930144, 1.8719224477710212, 1.8719224477710212, 1.8719224477710212, 1.8724124806628946, 1.8724124806628946, 1.8724125340930793, 1.8724125340930793, 1.8724125340930793, 1.8724125340930793, 1.8724125340930793, 1.8724125623039125, 1.8724125647032979, 1.8724125647032979, 1.8724125676622871, 1.8724125676622871, 1.8724125676622871, 1.8724125676622871, 1.8724125680126702, 1.872412568184278, 1.872412568184278, 1.8724125682170465, 1.8724125682170465, 1.8724125682312254]\n"
     ]
    },
    {
     "data": {
      "image/png": "[encoded data removed]",
      "text/plain": [
       "<Figure size 936x720 with 1 Axes>"
      ]
     },
     "metadata": {
      "needs_background": "light"
     },
     "output_type": "display_data"
    }
   ],
   "source": [
    "ans,best_scores_global = DE_base(cross_rate = 0.70,gen = 30,bounds=[[1,2]])\n",
    "print('最终结果：',ans)\n",
    "print('迭代中适应度函数：', best_scores_global)\n",
    "\n",
    "drawProcess(best_scores_global)"
   ]
  }
 ],
 "metadata": {
  "kernelspec": {
   "display_name": "Python 3 (ipykernel)",
   "language": "python",
   "name": "python3"
  },
  "language_info": {
   "codemirror_mode": {
    "name": "ipython",
    "version": 3
   },
   "file_extension": ".py",
   "mimetype": "text/x-python",
   "name": "python",
   "nbconvert_exporter": "python",
   "pygments_lexer": "ipython3",
   "version": "3.9.7"
  }
 },
 "nbformat": 4,
 "nbformat_minor": 5
}
